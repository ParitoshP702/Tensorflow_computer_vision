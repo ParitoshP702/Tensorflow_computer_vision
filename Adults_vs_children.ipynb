{
  "nbformat": 4,
  "nbformat_minor": 0,
  "metadata": {
    "colab": {
      "provenance": [],
      "authorship_tag": "ABX9TyNFhqs/mljxwt081xAkmiy5",
      "include_colab_link": true
    },
    "kernelspec": {
      "name": "python3",
      "display_name": "Python 3"
    },
    "language_info": {
      "name": "python"
    },
    "accelerator": "GPU"
  },
  "cells": [
    {
      "cell_type": "markdown",
      "metadata": {
        "id": "view-in-github",
        "colab_type": "text"
      },
      "source": [
        "<a href=\"https://colab.research.google.com/github/ParitoshP702/Tensorflow_computer_vision/blob/main/Adults_vs_children.ipynb\" target=\"_parent\"><img src=\"https://colab.research.google.com/assets/colab-badge.svg\" alt=\"Open In Colab\"/></a>"
      ]
    },
    {
      "cell_type": "code",
      "execution_count": 2,
      "metadata": {
        "id": "-bIk36C9bTtT"
      },
      "outputs": [],
      "source": [
        "#extracting the zip file\n",
        "import zipfile\n",
        "zip_ref=zipfile.ZipFile(\"adults_vs_children.zip\")\n",
        "zip_ref.extractall()\n",
        "zip_ref.close()"
      ]
    },
    {
      "cell_type": "code",
      "source": [
        "!ls train"
      ],
      "metadata": {
        "colab": {
          "base_uri": "https://localhost:8080/"
        },
        "id": "_K-l-Z7gdGhZ",
        "outputId": "d54f6384-af7b-4379-b664-6e62bb788e8e"
      },
      "execution_count": 3,
      "outputs": [
        {
          "output_type": "stream",
          "name": "stdout",
          "text": [
            "adults\tchildren\n"
          ]
        }
      ]
    },
    {
      "cell_type": "code",
      "source": [
        "#creating a numpy array of class names\n",
        "import pathlib\n",
        "import numpy as np\n",
        "dir_path = pathlib.Path(\"train\")\n",
        "class_names = np.array(sorted([item.name for item in dir_path.glob('*')]))"
      ],
      "metadata": {
        "id": "YzKpZN8ldLh0"
      },
      "execution_count": 4,
      "outputs": []
    },
    {
      "cell_type": "code",
      "source": [
        "class_names"
      ],
      "metadata": {
        "colab": {
          "base_uri": "https://localhost:8080/"
        },
        "id": "tnLAot35dRmO",
        "outputId": "e42abc87-362b-4e35-bbc9-cf24ccd14ec7"
      },
      "execution_count": 5,
      "outputs": [
        {
          "output_type": "execute_result",
          "data": {
            "text/plain": [
              "array(['adults', 'children'], dtype='<U8')"
            ]
          },
          "metadata": {},
          "execution_count": 5
        }
      ]
    },
    {
      "cell_type": "code",
      "source": [
        "#now moving ahead next step in our preprocessing stage ...creating trainiong and test set\n",
        "train_dir = \"train\"\n",
        "test_dir = \"test\"\n"
      ],
      "metadata": {
        "id": "1ZuwhRfedqmk"
      },
      "execution_count": 6,
      "outputs": []
    },
    {
      "cell_type": "code",
      "source": [
        "import tensorflow as tf\n",
        "from tensorflow.keras.preprocessing.image import ImageDataGenerator\n",
        "train_datagen = ImageDataGenerator(rescale = 1./255)\n",
        "test_datagen = ImageDataGenerator(rescale = 1/255.)\n",
        "train_data = train_datagen.flow_from_directory(train_dir,batch_size = 32, target_size = (320,370),seed = 42, class_mode = \"binary\")\n",
        "test_data = test_datagen.flow_from_directory(test_dir, batch_size =32, target_size = (320,370), seed = 42, class_mode = \"binary\")\n"
      ],
      "metadata": {
        "colab": {
          "base_uri": "https://localhost:8080/"
        },
        "id": "SOZ6LXYad71Z",
        "outputId": "f5f5e215-f93e-4efb-c1b0-0b6af537675f"
      },
      "execution_count": 7,
      "outputs": [
        {
          "output_type": "stream",
          "name": "stdout",
          "text": [
            "Found 680 images belonging to 2 classes.\n",
            "Found 120 images belonging to 2 classes.\n"
          ]
        }
      ]
    },
    {
      "cell_type": "markdown",
      "source": [
        "Now we are hgoing to build our own convolutional neural network model architecture to learn the given dataset"
      ],
      "metadata": {
        "id": "-7jzGvU2e7De"
      }
    },
    {
      "cell_type": "code",
      "source": [
        "from tensorflow.keras import layers\n",
        "from tensorflow.keras.layers import  Dense,Conv2D,Flatten\n",
        "model_0 = tf.keras.Sequential([\n",
        "    Conv2D(filters = 10, kernel_size = 3, strides = 1, activation = \"relu\",input_shape = (320,370,3)),\n",
        "    Conv2D(10,3,activation = \"relu\"),\n",
        "    tf.keras.layers.MaxPool2D(pool_size = 2),\n",
        "    Conv2D(10,3,activation = \"relu\"),\n",
        "    Conv2D(10,3,activation = \"relu\"),\n",
        "    tf.keras.layers.MaxPool2D(2),\n",
        "    Flatten(),\n",
        "    Dense(1,activation = \"sigmoid\")\n",
        "])"
      ],
      "metadata": {
        "id": "UuVM_EBOexCw"
      },
      "execution_count": 8,
      "outputs": []
    },
    {
      "cell_type": "code",
      "source": [
        "#compiling our model\n",
        "model_0.compile(loss = \"binary_crossentropy\", optimizer = tf.keras.optimizers.Adam(), metrics = [\"accuracy\"])"
      ],
      "metadata": {
        "id": "a2Iedr7Xf4qT"
      },
      "execution_count": 9,
      "outputs": []
    },
    {
      "cell_type": "code",
      "source": [
        "#cteating a function for our tensorboard callbacks\n",
        "import datetime\n",
        "def create_tensorboard_callback(dir_name, experiment_name):\n",
        "  log_dir = dir_name + \"/\" + experiment_name + \"/\" + datetime.datetime.now().strftime(\"%Y%m%d-%H%M%S\")\n",
        "  tensor_board_callback = tf.keras.callbacks.TensorBoard(log_dir = log_dir)\n",
        "  return tensor_board_callback\n",
        "  \n"
      ],
      "metadata": {
        "id": "wAMGVkwwgmhA"
      },
      "execution_count": 10,
      "outputs": []
    },
    {
      "cell_type": "code",
      "source": [
        "#fitting our model using the history object\n",
        "history_0 = model_0.fit(train_data, epochs = 5, steps_per_epoch = len(train_data), validation_data = test_data, validation_steps = len(test_data),\n",
        "                         callbacks = [create_tensorboard_callback(dir_name = \"VISION\",experiment_name = \"model_0\")] )"
      ],
      "metadata": {
        "colab": {
          "base_uri": "https://localhost:8080/"
        },
        "id": "7pJllItugI9B",
        "outputId": "1b046b22-449d-4d0e-aa7d-5da70167f724"
      },
      "execution_count": 11,
      "outputs": [
        {
          "output_type": "stream",
          "name": "stdout",
          "text": [
            "Epoch 1/5\n",
            "22/22 [==============================] - 15s 200ms/step - loss: 0.7611 - accuracy: 0.4500 - val_loss: 0.6918 - val_accuracy: 0.4917\n",
            "Epoch 2/5\n",
            "22/22 [==============================] - 4s 161ms/step - loss: 0.6838 - accuracy: 0.5794 - val_loss: 0.6802 - val_accuracy: 0.5917\n",
            "Epoch 3/5\n",
            "22/22 [==============================] - 4s 161ms/step - loss: 0.6607 - accuracy: 0.5809 - val_loss: 0.6890 - val_accuracy: 0.5000\n",
            "Epoch 4/5\n",
            "22/22 [==============================] - 4s 160ms/step - loss: 0.6061 - accuracy: 0.6882 - val_loss: 0.7115 - val_accuracy: 0.5333\n",
            "Epoch 5/5\n",
            "22/22 [==============================] - 4s 162ms/step - loss: 0.4796 - accuracy: 0.7926 - val_loss: 0.7644 - val_accuracy: 0.5333\n"
          ]
        }
      ]
    },
    {
      "cell_type": "code",
      "source": [
        "#We will now try to plot the loss curves of our model\n",
        "import matplotlib.pyplot as plt\n",
        "def plot_loss_curves(history):\n",
        "  loss = history.history[\"loss\"]\n",
        "  val_loss = history.history[\"val_loss\"]\n",
        "  accuracy = history.history[\"accuracy\"]\n",
        "  val_accuracy = history.history[\"val_accuracy\"]\n",
        "  epochs = range(len(loss))\n",
        "  plt.plot(epochs, val_loss,label = \"val_loss\")\n",
        "  plt.plot(epochs, loss, label = \"loss\")\n",
        "  plt.title(\"loss\")\n",
        "  plt.xlabel(\"epochs\")\n",
        "  plt.figure()\n",
        "  plt.plot(epochs,accuracy, label = \"accuracy\")\n",
        "  plt.plot(epochs, val_accuracy, label = \"val_accuracy\")\n",
        "  plt.title(\"accuracy\")\n",
        "  plt.xlabel(\"epochs\")"
      ],
      "metadata": {
        "id": "9yX2HGEehwhm"
      },
      "execution_count": 12,
      "outputs": []
    },
    {
      "cell_type": "code",
      "source": [
        "plot_loss_curves(history_0)"
      ],
      "metadata": {
        "colab": {
          "base_uri": "https://localhost:8080/",
          "height": 573
        },
        "id": "xEbdL6NWlGeQ",
        "outputId": "d9c563cf-bb27-4d39-a9cd-c4fa5357c617"
      },
      "execution_count": 13,
      "outputs": [
        {
          "output_type": "display_data",
          "data": {
            "text/plain": [
              "<Figure size 432x288 with 1 Axes>"
            ],
            "image/png": "[encoded data removed]"
          },
          "metadata": {
            "needs_background": "light"
          }
        },
        {
          "output_type": "display_data",
          "data": {
            "text/plain": [
              "<Figure size 432x288 with 1 Axes>"
            ],
            "image/png": "[encoded data removed]"
          },
          "metadata": {
            "needs_background": "light"
          }
        }
      ]
    },
    {
      "cell_type": "markdown",
      "source": [
        "Seems that our data is overfitting a bit, hence , we would try to reduce overfitting using data augmentation but before doing that we would first evaluate various other metrics related to our dataset namely, precision, recall,F1 score and we would also create a custom function to evaluate the confusion matrix of our dataset."
      ],
      "metadata": {
        "id": "2Xa0aksQlfoG"
      }
    },
    {
      "cell_type": "markdown",
      "source": [
        "We will try to create an improved model using data augmentation using functional API(we created earlier model using sequential API)"
      ],
      "metadata": {
        "id": "-11wBh4O85f8"
      }
    },
    {
      "cell_type": "code",
      "source": [
        "from tensorflow.keras.preprocessing import image_dataset_from_directory\n",
        "train_data_f = image_dataset_from_directory(train_dir, label_mode = \"binary\", image_size = (320,370), batch_size= 32, seed = 42, shuffle = False)\n",
        "test_data_f = image_dataset_from_directory(test_dir, label_mode = \"binary\", image_size = (320,370),batch_size = 32,seed = 42, shuffle = False)"
      ],
      "metadata": {
        "colab": {
          "base_uri": "https://localhost:8080/"
        },
        "id": "AD0rtiqw9IwC",
        "outputId": "5315bc2a-39ba-496b-bcd3-625d69b4adb3"
      },
      "execution_count": 14,
      "outputs": [
        {
          "output_type": "stream",
          "name": "stdout",
          "text": [
            "Found 680 files belonging to 2 classes.\n",
            "Found 120 files belonging to 2 classes.\n"
          ]
        }
      ]
    },
    {
      "cell_type": "markdown",
      "source": [
        "Creating a model checkpoint callback"
      ],
      "metadata": {
        "id": "QvCP3CuP93C3"
      }
    },
    {
      "cell_type": "markdown",
      "source": [
        "# We are now going to use a transfer learning approach . We will use the inbuilt EfficientNetB0 model(as a base model)\n",
        "## And then fine tune our model by unfreezing some of the layers and see whether this model performs better than our previously created model. "
      ],
      "metadata": {
        "id": "bKhWMnzd-ydi"
      }
    },
    {
      "cell_type": "code",
      "source": [
        "#creating the data augmentation layer usinh Sequential API\n",
        "from tensorflow.keras.layers.experimental import preprocessing\n",
        "data_augmentation = tf.keras.Sequential([\n",
        "    \n",
        "    preprocessing.RandomFlip(\"horizontal\"),\n",
        "    preprocessing.RandomHeight(0.2),\n",
        "    preprocessing.RandomWidth(0.2),\n",
        "    preprocessing.RandomRotation(0.2),\n",
        "    preprocessing.RandomZoom(0.2)\n",
        "], name = \"data_augmentation_layer\")"
      ],
      "metadata": {
        "id": "kcBFrTPt_bUW"
      },
      "execution_count": 15,
      "outputs": []
    },
    {
      "cell_type": "code",
      "source": [
        "base_model = tf.keras.applications.EfficientNetB0(include_top = False)\n",
        "base_model.trainable = False\n",
        "inputs = layers.Input(shape = (320,370,3), name = \"Input_layer\")\n",
        "x = data_augmentation(inputs)\n",
        "x = base_model(x,training = False)\n",
        "x= layers.GlobalAveragePooling2D(name = \"Global_average_pooling_layer\")(x)\n",
        "outputs = layers.Dense(1,activation = \"sigmoid\",name = \"output_layer\")(x)"
      ],
      "metadata": {
        "id": "OjYblYONAbjP",
        "colab": {
          "base_uri": "https://localhost:8080/"
        },
        "outputId": "4de57140-e271-4066-b7a5-19331b54f0a2"
      },
      "execution_count": 16,
      "outputs": [
        {
          "output_type": "stream",
          "name": "stdout",
          "text": [
            "Downloading data from https://storage.googleapis.com/keras-applications/efficientnetb0_notop.h5\n",
            "16711680/16705208 [==============================] - 0s 0us/step\n",
            "16719872/16705208 [==============================] - 0s 0us/step\n"
          ]
        }
      ]
    },
    {
      "cell_type": "code",
      "source": [
        "model_1 = tf.keras.Model(inputs,outputs)"
      ],
      "metadata": {
        "id": "6S9z8VcBBdSB"
      },
      "execution_count": 17,
      "outputs": []
    },
    {
      "cell_type": "code",
      "source": [
        "#compiiling our model\n",
        "model_1.compile(loss = \"binary_crossentropy\", optimizer = tf.keras.optimizers.Adam(), metrics = [\"accuracy\"])"
      ],
      "metadata": {
        "id": "imgZOgL3Bve-"
      },
      "execution_count": 18,
      "outputs": []
    },
    {
      "cell_type": "code",
      "source": [
        "history_1 = model_1.fit(train_data_f, epochs = 5, steps_per_epoch = len(train_data_f), validation_data = test_data_f, validation_steps = len(test_data_f))"
      ],
      "metadata": {
        "colab": {
          "base_uri": "https://localhost:8080/"
        },
        "id": "shM6m-HbB8-P",
        "outputId": "6e51bbd2-30f2-4d49-8b2a-aef3dd5f8e12"
      },
      "execution_count": 19,
      "outputs": [
        {
          "output_type": "stream",
          "name": "stdout",
          "text": [
            "Epoch 1/5\n",
            "22/22 [==============================] - 27s 953ms/step - loss: 0.9577 - accuracy: 0.3206 - val_loss: 0.6876 - val_accuracy: 0.5583\n",
            "Epoch 2/5\n",
            "22/22 [==============================] - 15s 691ms/step - loss: 0.5913 - accuracy: 0.7235 - val_loss: 0.6308 - val_accuracy: 0.6500\n",
            "Epoch 3/5\n",
            "22/22 [==============================] - 15s 708ms/step - loss: 0.6230 - accuracy: 0.6750 - val_loss: 0.5915 - val_accuracy: 0.7083\n",
            "Epoch 4/5\n",
            "22/22 [==============================] - 15s 705ms/step - loss: 0.5957 - accuracy: 0.6765 - val_loss: 0.5618 - val_accuracy: 0.7667\n",
            "Epoch 5/5\n",
            "22/22 [==============================] - 14s 614ms/step - loss: 0.5656 - accuracy: 0.7206 - val_loss: 0.5437 - val_accuracy: 0.7750\n"
          ]
        }
      ]
    },
    {
      "cell_type": "code",
      "source": [
        "feature_extraction_results = model_1.evaluate(test_data_f)"
      ],
      "metadata": {
        "colab": {
          "base_uri": "https://localhost:8080/"
        },
        "id": "xyJbKgQbD0n4",
        "outputId": "44c2252c-b53a-4238-b35a-df9bfb8cb179"
      },
      "execution_count": 20,
      "outputs": [
        {
          "output_type": "stream",
          "name": "stdout",
          "text": [
            "4/4 [==============================] - 1s 160ms/step - loss: 0.5437 - accuracy: 0.7750\n"
          ]
        }
      ]
    },
    {
      "cell_type": "code",
      "source": [
        "#plotting the loss curves of our model\n",
        "plot_loss_curves(history_1)"
      ],
      "metadata": {
        "colab": {
          "base_uri": "https://localhost:8080/",
          "height": 573
        },
        "id": "rPik1m0tGMHE",
        "outputId": "49734858-f656-4193-e192-f9e89f1672ee"
      },
      "execution_count": 21,
      "outputs": [
        {
          "output_type": "display_data",
          "data": {
            "text/plain": [
              "<Figure size 432x288 with 1 Axes>"
            ],
            "image/png": "[encoded data removed]"
          },
          "metadata": {
            "needs_background": "light"
          }
        },
        {
          "output_type": "display_data",
          "data": {
            "text/plain": [
              "<Figure size 432x288 with 1 Axes>"
            ],
            "image/png": "[encoded data removed]"
          },
          "metadata": {
            "needs_background": "light"
          }
        }
      ]
    },
    {
      "cell_type": "markdown",
      "source": [
        "## Hence we can see clearly how using feature extraction improves the validation accuracy of our model, now we will fine tune the model by unfreezing some of its layers"
      ],
      "metadata": {
        "id": "Z9Bb0jSGGJRk"
      }
    },
    {
      "cell_type": "code",
      "source": [
        "for layer in model_1.layers:\n",
        "  print(layer, layer.trainable)"
      ],
      "metadata": {
        "colab": {
          "base_uri": "https://localhost:8080/"
        },
        "id": "txuDSHxHGka0",
        "outputId": "d0fb4bb0-4ccf-46ae-8e66-3dc83e1c54aa"
      },
      "execution_count": 22,
      "outputs": [
        {
          "output_type": "stream",
          "name": "stdout",
          "text": [
            "<keras.engine.input_layer.InputLayer object at 0x7fa62c12ea90> True\n",
            "<keras.engine.sequential.Sequential object at 0x7fa62c1c2150> True\n",
            "<keras.engine.functional.Functional object at 0x7fa6130d1590> False\n",
            "<keras.layers.pooling.GlobalAveragePooling2D object at 0x7fa62c1c2910> True\n",
            "<keras.layers.core.dense.Dense object at 0x7fa6121773d0> True\n"
          ]
        }
      ]
    },
    {
      "cell_type": "code",
      "source": [
        "#clearly hte layer with index 2 is not trainable, we will further visualize this layer(or its sublayers, to be specific)\n",
        "for layer in model_1.layers[2].layers:\n",
        "  print(layer,layer.trainable)"
      ],
      "metadata": {
        "colab": {
          "base_uri": "https://localhost:8080/"
        },
        "id": "mx6lgtX_Gvi4",
        "outputId": "218d5c0d-e2b7-4815-f46a-9115c943652d"
      },
      "execution_count": 23,
      "outputs": [
        {
          "output_type": "stream",
          "name": "stdout",
          "text": [
            "<keras.engine.input_layer.InputLayer object at 0x7fa6802c2f90> False\n",
            "<keras.layers.preprocessing.image_preprocessing.Rescaling object at 0x7fa62c293250> False\n",
            "<keras.layers.preprocessing.normalization.Normalization object at 0x7fa62c23bf90> False\n",
            "<keras.layers.convolutional.ZeroPadding2D object at 0x7fa680041510> False\n",
            "<keras.layers.convolutional.Conv2D object at 0x7fa6803209d0> False\n",
            "<keras.layers.normalization.batch_normalization.BatchNormalization object at 0x7fa62c162710> False\n",
            "<keras.layers.core.activation.Activation object at 0x7fa6800b6610> False\n",
            "<keras.layers.convolutional.DepthwiseConv2D object at 0x7fa62c110d10> False\n",
            "<keras.layers.normalization.batch_normalization.BatchNormalization object at 0x7fa62c117890> False\n",
            "<keras.layers.core.activation.Activation object at 0x7fa680349990> False\n",
            "<keras.layers.pooling.GlobalAveragePooling2D object at 0x7fa62c117f50> False\n",
            "<keras.layers.core.reshape.Reshape object at 0x7fa62c0aabd0> False\n",
            "<keras.layers.convolutional.Conv2D object at 0x7fa69408ead0> False\n",
            "<keras.layers.convolutional.Conv2D object at 0x7fa62c0a5d90> False\n",
            "<keras.layers.merge.Multiply object at 0x7fa62c157350> False\n",
            "<keras.layers.convolutional.Conv2D object at 0x7fa62c0bf190> False\n",
            "<keras.layers.normalization.batch_normalization.BatchNormalization object at 0x7fa62c0c20d0> False\n",
            "<keras.layers.convolutional.Conv2D object at 0x7fa62c0c54d0> False\n",
            "<keras.layers.normalization.batch_normalization.BatchNormalization object at 0x7fa62c0d0250> False\n",
            "<keras.layers.core.activation.Activation object at 0x7fa62c0c2550> False\n",
            "<keras.layers.convolutional.ZeroPadding2D object at 0x7fa62c0d3b90> False\n",
            "<keras.layers.convolutional.DepthwiseConv2D object at 0x7fa62c0e2610> False\n",
            "<keras.layers.normalization.batch_normalization.BatchNormalization object at 0x7fa62c0e2b50> False\n",
            "<keras.layers.core.activation.Activation object at 0x7fa6800aa290> False\n",
            "<keras.layers.pooling.GlobalAveragePooling2D object at 0x7fa62c146410> False\n",
            "<keras.layers.core.reshape.Reshape object at 0x7fa62c073210> False\n",
            "<keras.layers.convolutional.Conv2D object at 0x7fa62c0736d0> False\n",
            "<keras.layers.convolutional.Conv2D object at 0x7fa62c07e150> False\n",
            "<keras.layers.merge.Multiply object at 0x7fa62c08bd10> False\n",
            "<keras.layers.convolutional.Conv2D object at 0x7fa62c07e090> False\n",
            "<keras.layers.normalization.batch_normalization.BatchNormalization object at 0x7fa62c093f90> False\n",
            "<keras.layers.convolutional.Conv2D object at 0x7fa62c0a11d0> False\n",
            "<keras.layers.normalization.batch_normalization.BatchNormalization object at 0x7fa62c09bb90> False\n",
            "<keras.layers.core.activation.Activation object at 0x7fa62c02a210> False\n",
            "<keras.layers.convolutional.DepthwiseConv2D object at 0x7fa62c02e110> False\n",
            "<keras.layers.normalization.batch_normalization.BatchNormalization object at 0x7fa62c0251d0> False\n",
            "<keras.layers.core.activation.Activation object at 0x7fa62c03f350> False\n",
            "<keras.layers.pooling.GlobalAveragePooling2D object at 0x7fa62c048610> False\n",
            "<keras.layers.core.reshape.Reshape object at 0x7fa6802ccd90> False\n",
            "<keras.layers.convolutional.Conv2D object at 0x7fa62c09b150> False\n",
            "<keras.layers.convolutional.Conv2D object at 0x7fa62c052810> False\n",
            "<keras.layers.merge.Multiply object at 0x7fa62c052d90> False\n",
            "<keras.layers.convolutional.Conv2D object at 0x7fa62c03b950> False\n",
            "<keras.layers.normalization.batch_normalization.BatchNormalization object at 0x7fa613376150> False\n",
            "<keras.layers.core.dropout.Dropout object at 0x7fa61337dd90> False\n",
            "<keras.layers.merge.Add object at 0x7fa613379d90> False\n",
            "<keras.layers.convolutional.Conv2D object at 0x7fa613384710> False\n",
            "<keras.layers.normalization.batch_normalization.BatchNormalization object at 0x7fa61338b210> False\n",
            "<keras.layers.core.activation.Activation object at 0x7fa61338b490> False\n",
            "<keras.layers.convolutional.ZeroPadding2D object at 0x7fa613391ed0> False\n",
            "<keras.layers.convolutional.DepthwiseConv2D object at 0x7fa613384e10> False\n",
            "<keras.layers.normalization.batch_normalization.BatchNormalization object at 0x7fa6133a3650> False\n",
            "<keras.layers.core.activation.Activation object at 0x7fa613384110> False\n",
            "<keras.layers.pooling.GlobalAveragePooling2D object at 0x7fa613397510> False\n",
            "<keras.layers.core.reshape.Reshape object at 0x7fa62c093890> False\n",
            "<keras.layers.convolutional.Conv2D object at 0x7fa6802d3f90> False\n",
            "<keras.layers.convolutional.Conv2D object at 0x7fa68014ab10> False\n",
            "<keras.layers.merge.Multiply object at 0x7fa62c0e2d50> False\n",
            "<keras.layers.convolutional.Conv2D object at 0x7fa700ab3b90> False\n",
            "<keras.layers.normalization.batch_normalization.BatchNormalization object at 0x7fa62c052090> False\n",
            "<keras.layers.convolutional.Conv2D object at 0x7fa62c04cd90> False\n",
            "<keras.layers.normalization.batch_normalization.BatchNormalization object at 0x7fa62c0a1350> False\n",
            "<keras.layers.core.activation.Activation object at 0x7fa6133a3850> False\n",
            "<keras.layers.convolutional.DepthwiseConv2D object at 0x7fa62c0b7250> False\n",
            "<keras.layers.normalization.batch_normalization.BatchNormalization object at 0x7fa62c1ecf10> False\n",
            "<keras.layers.core.activation.Activation object at 0x7fa62c1cc690> False\n",
            "<keras.layers.pooling.GlobalAveragePooling2D object at 0x7fa680060ed0> False\n",
            "<keras.layers.core.reshape.Reshape object at 0x7fa62c24e790> False\n",
            "<keras.layers.convolutional.Conv2D object at 0x7fa62c278690> False\n",
            "<keras.layers.convolutional.Conv2D object at 0x7fa62c25a650> False\n",
            "<keras.layers.merge.Multiply object at 0x7fa62c22a650> False\n",
            "<keras.layers.convolutional.Conv2D object at 0x7fa62c293a50> False\n",
            "<keras.layers.normalization.batch_normalization.BatchNormalization object at 0x7fa62c223950> False\n",
            "<keras.layers.core.dropout.Dropout object at 0x7fa6800d78d0> False\n",
            "<keras.layers.merge.Add object at 0x7fa62c23be90> False\n",
            "<keras.layers.convolutional.Conv2D object at 0x7fa68008f6d0> False\n",
            "<keras.layers.normalization.batch_normalization.BatchNormalization object at 0x7fa693952b50> False\n",
            "<keras.layers.core.activation.Activation object at 0x7fa6800415d0> False\n",
            "<keras.layers.convolutional.ZeroPadding2D object at 0x7fa6800aaf90> False\n",
            "<keras.layers.convolutional.DepthwiseConv2D object at 0x7fa680355d10> False\n",
            "<keras.layers.normalization.batch_normalization.BatchNormalization object at 0x7fa6800c4a90> False\n",
            "<keras.layers.core.activation.Activation object at 0x7fa69184ee10> False\n",
            "<keras.layers.pooling.GlobalAveragePooling2D object at 0x7fa62c08fbd0> False\n",
            "<keras.layers.core.reshape.Reshape object at 0x7fa68002c150> False\n",
            "<keras.layers.convolutional.Conv2D object at 0x7fa69184e550> False\n",
            "<keras.layers.convolutional.Conv2D object at 0x7fa62c0d0e10> False\n",
            "<keras.layers.merge.Multiply object at 0x7fa6804e66d0> False\n",
            "<keras.layers.convolutional.Conv2D object at 0x7fa62c0c5bd0> False\n",
            "<keras.layers.normalization.batch_normalization.BatchNormalization object at 0x7fa62c281ed0> False\n",
            "<keras.layers.convolutional.Conv2D object at 0x7fa62c2713d0> False\n",
            "<keras.layers.normalization.batch_normalization.BatchNormalization object at 0x7fa62c27b290> False\n",
            "<keras.layers.core.activation.Activation object at 0x7fa68008f410> False\n",
            "<keras.layers.convolutional.DepthwiseConv2D object at 0x7fa62c2320d0> False\n",
            "<keras.layers.normalization.batch_normalization.BatchNormalization object at 0x7fa62c20fbd0> False\n",
            "<keras.layers.core.activation.Activation object at 0x7fa62c263f10> False\n",
            "<keras.layers.pooling.GlobalAveragePooling2D object at 0x7fa6133a3b10> False\n",
            "<keras.layers.core.reshape.Reshape object at 0x7fa62c069390> False\n",
            "<keras.layers.convolutional.Conv2D object at 0x7fa6800aa310> False\n",
            "<keras.layers.convolutional.Conv2D object at 0x7fa62c2668d0> False\n",
            "<keras.layers.merge.Multiply object at 0x7fa62c0976d0> False\n",
            "<keras.layers.convolutional.Conv2D object at 0x7fa62c263150> False\n",
            "<keras.layers.normalization.batch_normalization.BatchNormalization object at 0x7fa68005d0d0> False\n",
            "<keras.layers.core.dropout.Dropout object at 0x7fa6800556d0> False\n",
            "<keras.layers.merge.Add object at 0x7fa68005bf50> False\n",
            "<keras.layers.convolutional.Conv2D object at 0x7fa68005d690> False\n",
            "<keras.layers.normalization.batch_normalization.BatchNormalization object at 0x7fa68002a1d0> False\n",
            "<keras.layers.core.activation.Activation object at 0x7fa68002d690> False\n",
            "<keras.layers.convolutional.DepthwiseConv2D object at 0x7fa68002aed0> False\n",
            "<keras.layers.normalization.batch_normalization.BatchNormalization object at 0x7fa613339590> False\n",
            "<keras.layers.core.activation.Activation object at 0x7fa61333cd50> False\n",
            "<keras.layers.pooling.GlobalAveragePooling2D object at 0x7fa613344b50> False\n",
            "<keras.layers.core.reshape.Reshape object at 0x7fa6133486d0> False\n",
            "<keras.layers.convolutional.Conv2D object at 0x7fa61334f910> False\n",
            "<keras.layers.convolutional.Conv2D object at 0x7fa61335b310> False\n",
            "<keras.layers.merge.Multiply object at 0x7fa613363ed0> False\n",
            "<keras.layers.convolutional.Conv2D object at 0x7fa61336a490> False\n",
            "<keras.layers.normalization.batch_normalization.BatchNormalization object at 0x7fa6132f03d0> False\n",
            "<keras.layers.core.dropout.Dropout object at 0x7fa6132f2890> False\n",
            "<keras.layers.merge.Add object at 0x7fa6132f8890> False\n",
            "<keras.layers.convolutional.Conv2D object at 0x7fa6132f2290> False\n",
            "<keras.layers.normalization.batch_normalization.BatchNormalization object at 0x7fa613303650> False\n",
            "<keras.layers.core.activation.Activation object at 0x7fa6132f5b10> False\n",
            "<keras.layers.convolutional.DepthwiseConv2D object at 0x7fa61330b910> False\n",
            "<keras.layers.normalization.batch_normalization.BatchNormalization object at 0x7fa61331d150> False\n",
            "<keras.layers.core.activation.Activation object at 0x7fa6133251d0> False\n",
            "<keras.layers.pooling.GlobalAveragePooling2D object at 0x7fa61331d650> False\n",
            "<keras.layers.core.reshape.Reshape object at 0x7fa6132b1a90> False\n",
            "<keras.layers.convolutional.Conv2D object at 0x7fa6132b5e90> False\n",
            "<keras.layers.convolutional.Conv2D object at 0x7fa6132c0310> False\n",
            "<keras.layers.merge.Multiply object at 0x7fa61332aa50> False\n",
            "<keras.layers.convolutional.Conv2D object at 0x7fa613313ad0> False\n",
            "<keras.layers.normalization.batch_normalization.BatchNormalization object at 0x7fa61334ff10> False\n",
            "<keras.layers.convolutional.Conv2D object at 0x7fa61336a610> False\n",
            "<keras.layers.normalization.batch_normalization.BatchNormalization object at 0x7fa61333cc90> False\n",
            "<keras.layers.core.activation.Activation object at 0x7fa68005d510> False\n",
            "<keras.layers.convolutional.DepthwiseConv2D object at 0x7fa680042450> False\n",
            "<keras.layers.normalization.batch_normalization.BatchNormalization object at 0x7fa6132c2810> False\n",
            "<keras.layers.core.activation.Activation object at 0x7fa6132c8210> False\n",
            "<keras.layers.pooling.GlobalAveragePooling2D object at 0x7fa6132c7b50> False\n",
            "<keras.layers.core.reshape.Reshape object at 0x7fa6132d2450> False\n",
            "<keras.layers.convolutional.Conv2D object at 0x7fa6132de790> False\n",
            "<keras.layers.convolutional.Conv2D object at 0x7fa6132d6610> False\n",
            "<keras.layers.merge.Multiply object at 0x7fa6132eb390> False\n",
            "<keras.layers.convolutional.Conv2D object at 0x7fa61326f6d0> False\n",
            "<keras.layers.normalization.batch_normalization.BatchNormalization object at 0x7fa613275c90> False\n",
            "<keras.layers.core.dropout.Dropout object at 0x7fa613279ed0> False\n",
            "<keras.layers.merge.Add object at 0x7fa613285950> False\n",
            "<keras.layers.convolutional.Conv2D object at 0x7fa613285510> False\n",
            "<keras.layers.normalization.batch_normalization.BatchNormalization object at 0x7fa61327f450> False\n",
            "<keras.layers.core.activation.Activation object at 0x7fa613289d90> False\n",
            "<keras.layers.convolutional.DepthwiseConv2D object at 0x7fa613294810> False\n",
            "<keras.layers.normalization.batch_normalization.BatchNormalization object at 0x7fa61328eb90> False\n",
            "<keras.layers.core.activation.Activation object at 0x7fa61329ac90> False\n",
            "<keras.layers.pooling.GlobalAveragePooling2D object at 0x7fa6132a5610> False\n",
            "<keras.layers.core.reshape.Reshape object at 0x7fa6132a5450> False\n",
            "<keras.layers.convolutional.Conv2D object at 0x7fa61329dc50> False\n",
            "<keras.layers.convolutional.Conv2D object at 0x7fa61322f590> False\n",
            "<keras.layers.merge.Multiply object at 0x7fa613289b10> False\n",
            "<keras.layers.convolutional.Conv2D object at 0x7fa6132a5090> False\n",
            "<keras.layers.normalization.batch_normalization.BatchNormalization object at 0x7fa613243bd0> False\n",
            "<keras.layers.core.dropout.Dropout object at 0x7fa61324a410> False\n",
            "<keras.layers.merge.Add object at 0x7fa613245190> False\n",
            "<keras.layers.convolutional.Conv2D object at 0x7fa613254210> False\n",
            "<keras.layers.normalization.batch_normalization.BatchNormalization object at 0x7fa613258d50> False\n",
            "<keras.layers.core.activation.Activation object at 0x7fa613258a90> False\n",
            "<keras.layers.convolutional.ZeroPadding2D object at 0x7fa613254550> False\n",
            "<keras.layers.convolutional.DepthwiseConv2D object at 0x7fa61326cc10> False\n",
            "<keras.layers.normalization.batch_normalization.BatchNormalization object at 0x7fa6131f3050> False\n",
            "<keras.layers.core.activation.Activation object at 0x7fa6131f6590> False\n",
            "<keras.layers.pooling.GlobalAveragePooling2D object at 0x7fa613262f10> False\n",
            "<keras.layers.core.reshape.Reshape object at 0x7fa6132829d0> False\n",
            "<keras.layers.convolutional.Conv2D object at 0x7fa61326f950> False\n",
            "<keras.layers.convolutional.Conv2D object at 0x7fa6132dec10> False\n",
            "<keras.layers.merge.Multiply object at 0x7fa61336afd0> False\n",
            "<keras.layers.convolutional.Conv2D object at 0x7fa6132cad50> False\n",
            "<keras.layers.normalization.batch_normalization.BatchNormalization object at 0x7fa68005b410> False\n",
            "<keras.layers.convolutional.Conv2D object at 0x7fa6131fe4d0> False\n",
            "<keras.layers.normalization.batch_normalization.BatchNormalization object at 0x7fa613202210> False\n",
            "<keras.layers.core.activation.Activation object at 0x7fa6131fedd0> False\n",
            "<keras.layers.convolutional.DepthwiseConv2D object at 0x7fa61320b490> False\n",
            "<keras.layers.normalization.batch_normalization.BatchNormalization object at 0x7fa61321ac90> False\n",
            "<keras.layers.core.activation.Activation object at 0x7fa61320b050> False\n",
            "<keras.layers.pooling.GlobalAveragePooling2D object at 0x7fa613224490> False\n",
            "<keras.layers.core.reshape.Reshape object at 0x7fa6131b3290> False\n",
            "<keras.layers.convolutional.Conv2D object at 0x7fa6131b3390> False\n",
            "<keras.layers.convolutional.Conv2D object at 0x7fa6131b7550> False\n",
            "<keras.layers.merge.Multiply object at 0x7fa6131c4590> False\n",
            "<keras.layers.convolutional.Conv2D object at 0x7fa6131b7510> False\n",
            "<keras.layers.normalization.batch_normalization.BatchNormalization object at 0x7fa6131cb850> False\n",
            "<keras.layers.core.dropout.Dropout object at 0x7fa6131d4ed0> False\n",
            "<keras.layers.merge.Add object at 0x7fa6131d8590> False\n",
            "<keras.layers.convolutional.Conv2D object at 0x7fa6131c91d0> False\n",
            "<keras.layers.normalization.batch_normalization.BatchNormalization object at 0x7fa6131e69d0> False\n",
            "<keras.layers.core.activation.Activation object at 0x7fa6131eac90> False\n",
            "<keras.layers.convolutional.DepthwiseConv2D object at 0x7fa613171b50> False\n",
            "<keras.layers.normalization.batch_normalization.BatchNormalization object at 0x7fa61317bd50> False\n",
            "<keras.layers.core.activation.Activation object at 0x7fa613182510> False\n",
            "<keras.layers.pooling.GlobalAveragePooling2D object at 0x7fa61317ef10> False\n",
            "<keras.layers.core.reshape.Reshape object at 0x7fa6131947d0> False\n",
            "<keras.layers.convolutional.Conv2D object at 0x7fa61319eb90> False\n",
            "<keras.layers.convolutional.Conv2D object at 0x7fa613199b90> False\n",
            "<keras.layers.merge.Multiply object at 0x7fa6131ae310> False\n",
            "<keras.layers.convolutional.Conv2D object at 0x7fa613139a50> False\n",
            "<keras.layers.normalization.batch_normalization.BatchNormalization object at 0x7fa613131690> False\n",
            "<keras.layers.core.dropout.Dropout object at 0x7fa613141090> False\n",
            "<keras.layers.merge.Add object at 0x7fa613146850> False\n",
            "<keras.layers.convolutional.Conv2D object at 0x7fa613146690> False\n",
            "<keras.layers.normalization.batch_normalization.BatchNormalization object at 0x7fa613139510> False\n",
            "<keras.layers.core.activation.Activation object at 0x7fa61319e810> False\n",
            "<keras.layers.convolutional.DepthwiseConv2D object at 0x7fa61318d510> False\n",
            "<keras.layers.normalization.batch_normalization.BatchNormalization object at 0x7fa61319edd0> False\n",
            "<keras.layers.core.activation.Activation object at 0x7fa6131d8290> False\n",
            "<keras.layers.pooling.GlobalAveragePooling2D object at 0x7fa613214210> False\n",
            "<keras.layers.core.reshape.Reshape object at 0x7fa6131b72d0> False\n",
            "<keras.layers.convolutional.Conv2D object at 0x7fa6131d8250> False\n",
            "<keras.layers.convolutional.Conv2D object at 0x7fa61329aa50> False\n",
            "<keras.layers.merge.Multiply object at 0x7fa6131fa350> False\n",
            "<keras.layers.convolutional.Conv2D object at 0x7fa61314d3d0> False\n",
            "<keras.layers.normalization.batch_normalization.BatchNormalization object at 0x7fa613158910> False\n",
            "<keras.layers.core.dropout.Dropout object at 0x7fa61315afd0> False\n",
            "<keras.layers.merge.Add object at 0x7fa613156250> False\n",
            "<keras.layers.convolutional.Conv2D object at 0x7fa6131612d0> False\n",
            "<keras.layers.normalization.batch_normalization.BatchNormalization object at 0x7fa613165a50> False\n",
            "<keras.layers.core.activation.Activation object at 0x7fa613165790> False\n",
            "<keras.layers.convolutional.DepthwiseConv2D object at 0x7fa613156050> False\n",
            "<keras.layers.normalization.batch_normalization.BatchNormalization object at 0x7fa6130f5e10> False\n",
            "<keras.layers.core.activation.Activation object at 0x7fa6130fd590> False\n",
            "<keras.layers.pooling.GlobalAveragePooling2D object at 0x7fa6130f9d90> False\n",
            "<keras.layers.core.reshape.Reshape object at 0x7fa61310c810> False\n",
            "<keras.layers.convolutional.Conv2D object at 0x7fa613110a90> False\n",
            "<keras.layers.convolutional.Conv2D object at 0x7fa6131166d0> False\n",
            "<keras.layers.merge.Multiply object at 0x7fa613127750> False\n",
            "<keras.layers.convolutional.Conv2D object at 0x7fa61312ba90> False\n",
            "<keras.layers.normalization.batch_normalization.BatchNormalization object at 0x7fa6130b4c50> False\n",
            "<keras.layers.convolutional.Conv2D object at 0x7fa62c0fa550> False\n",
            "<keras.layers.normalization.batch_normalization.BatchNormalization object at 0x7fa6130c0e50> False\n",
            "<keras.layers.core.activation.Activation object at 0x7fa6130cbf50> False\n"
          ]
        }
      ]
    },
    {
      "cell_type": "code",
      "source": [
        "#we are going to unfreeze the last 10 layers of the base  model and fine tune them\n",
        "base_model.trainable  =True\n",
        "for layer in base_model.layers[:-5]:\n",
        "  layer.trainable = False\n"
      ],
      "metadata": {
        "id": "UWVq15JrHPw4"
      },
      "execution_count": 24,
      "outputs": []
    },
    {
      "cell_type": "code",
      "source": [
        "#Now we will compile our model again with 10 times lower learning rate\n",
        "model_1.compile(loss = \"binary_crossentropy\", optimizer = tf.keras.optimizers.Adam(0.0001), metrics = [\"accuracy\"])\n"
      ],
      "metadata": {
        "id": "JXD5WuIYH59P"
      },
      "execution_count": 25,
      "outputs": []
    },
    {
      "cell_type": "code",
      "source": [
        "#Now we will fit our new model for exttra 5(i.e , total 0f 10) epochs\n",
        "history_fine_tuned = model_1.fit(train_data_f, epochs = 10, steps_per_epoch = len(train_data), validation_data = test_data_f, validation_steps = len(test_data_f))"
      ],
      "metadata": {
        "colab": {
          "base_uri": "https://localhost:8080/"
        },
        "id": "LM0olGSFIJxo",
        "outputId": "142a7143-5eac-477c-d0be-3f2cc185c74b"
      },
      "execution_count": 26,
      "outputs": [
        {
          "output_type": "stream",
          "name": "stdout",
          "text": [
            "Epoch 1/10\n",
            "22/22 [==============================] - 22s 726ms/step - loss: 0.8500 - accuracy: 0.5426 - val_loss: 0.5530 - val_accuracy: 0.7167\n",
            "Epoch 2/10\n",
            "22/22 [==============================] - 15s 652ms/step - loss: 0.4391 - accuracy: 0.8162 - val_loss: 0.5223 - val_accuracy: 0.7417\n",
            "Epoch 3/10\n",
            "22/22 [==============================] - 13s 580ms/step - loss: 0.5338 - accuracy: 0.7309 - val_loss: 0.4872 - val_accuracy: 0.8000\n",
            "Epoch 4/10\n",
            "22/22 [==============================] - 15s 663ms/step - loss: 0.4693 - accuracy: 0.7750 - val_loss: 0.4737 - val_accuracy: 0.8000\n",
            "Epoch 5/10\n",
            "22/22 [==============================] - 12s 573ms/step - loss: 0.4451 - accuracy: 0.8103 - val_loss: 0.4621 - val_accuracy: 0.8083\n",
            "Epoch 6/10\n",
            "22/22 [==============================] - 14s 614ms/step - loss: 0.4355 - accuracy: 0.8029 - val_loss: 0.4523 - val_accuracy: 0.7917\n",
            "Epoch 7/10\n",
            "22/22 [==============================] - 13s 577ms/step - loss: 0.4257 - accuracy: 0.8103 - val_loss: 0.4471 - val_accuracy: 0.8167\n",
            "Epoch 8/10\n",
            "22/22 [==============================] - 12s 560ms/step - loss: 0.3948 - accuracy: 0.8206 - val_loss: 0.4386 - val_accuracy: 0.8000\n",
            "Epoch 9/10\n",
            "22/22 [==============================] - 13s 570ms/step - loss: 0.3994 - accuracy: 0.8324 - val_loss: 0.4355 - val_accuracy: 0.8000\n",
            "Epoch 10/10\n",
            "22/22 [==============================] - 12s 552ms/step - loss: 0.3968 - accuracy: 0.8235 - val_loss: 0.4261 - val_accuracy: 0.8000\n"
          ]
        }
      ]
    },
    {
      "cell_type": "code",
      "source": [
        "results_fine_tuned = model_1.evaluate(test_data_f)"
      ],
      "metadata": {
        "colab": {
          "base_uri": "https://localhost:8080/"
        },
        "id": "zkjJMBb7LoNa",
        "outputId": "d4235ac3-8bd7-4c49-a99f-2977762addb8"
      },
      "execution_count": 27,
      "outputs": [
        {
          "output_type": "stream",
          "name": "stdout",
          "text": [
            "4/4 [==============================] - 1s 161ms/step - loss: 0.4261 - accuracy: 0.8000\n"
          ]
        }
      ]
    },
    {
      "cell_type": "code",
      "source": [
        "#plotiing the loss curves of our best model yet\n",
        "plot_loss_curves(history_fine_tuned)"
      ],
      "metadata": {
        "colab": {
          "base_uri": "https://localhost:8080/",
          "height": 573
        },
        "id": "BaYNwlaBL4ML",
        "outputId": "f0989b30-d0a7-4ab9-9d69-e63028920bdb"
      },
      "execution_count": 28,
      "outputs": [
        {
          "output_type": "display_data",
          "data": {
            "text/plain": [
              "<Figure size 432x288 with 1 Axes>"
            ],
            "image/png": "[encoded data removed]"
          },
          "metadata": {
            "needs_background": "light"
          }
        },
        {
          "output_type": "display_data",
          "data": {
            "text/plain": [
              "<Figure size 432x288 with 1 Axes>"
            ],
            "image/png": "[encoded data removed]"
          },
          "metadata": {
            "needs_background": "light"
          }
        }
      ]
    },
    {
      "cell_type": "code",
      "source": [
        "#prediction probablities of our model\n",
        "pred_probs = model_1.predict(test_data_f, verbose = 1)"
      ],
      "metadata": {
        "colab": {
          "base_uri": "https://localhost:8080/"
        },
        "id": "Iv9X_XmglKV9",
        "outputId": "67d6300c-9772-4329-bdc1-f42e2bc1c4f1"
      },
      "execution_count": 29,
      "outputs": [
        {
          "output_type": "stream",
          "name": "stdout",
          "text": [
            "4/4 [==============================] - 2s 178ms/step\n"
          ]
        }
      ]
    },
    {
      "cell_type": "code",
      "source": [
        "pred_probs.shape"
      ],
      "metadata": {
        "colab": {
          "base_uri": "https://localhost:8080/"
        },
        "id": "PkOZq71hngHF",
        "outputId": "40e1323e-75c0-48ed-8785-a1346aa8ddf2"
      },
      "execution_count": 30,
      "outputs": [
        {
          "output_type": "execute_result",
          "data": {
            "text/plain": [
              "(120, 1)"
            ]
          },
          "metadata": {},
          "execution_count": 30
        }
      ]
    },
    {
      "cell_type": "code",
      "source": [
        "#constructing the pred classes from threr above prediction probablities\n",
        "pred_classes = tf.round(tf.squeeze(pred_probs))"
      ],
      "metadata": {
        "id": "0Spnc5KGNBRk"
      },
      "execution_count": 31,
      "outputs": []
    },
    {
      "cell_type": "code",
      "source": [
        "pred_classes"
      ],
      "metadata": {
        "colab": {
          "base_uri": "https://localhost:8080/"
        },
        "id": "GiHwhOfEnikU",
        "outputId": "a9d24c6d-5106-4a8a-94df-5bb84c89ab0c"
      },
      "execution_count": 32,
      "outputs": [
        {
          "output_type": "execute_result",
          "data": {
            "text/plain": [
              "<tf.Tensor: shape=(120,), dtype=float32, numpy=\n",
              "array([0., 0., 0., 0., 0., 1., 1., 0., 0., 0., 0., 1., 0., 0., 0., 0., 0.,\n",
              "       0., 0., 0., 1., 0., 0., 0., 0., 0., 0., 1., 0., 0., 1., 0., 0., 0.,\n",
              "       0., 0., 0., 0., 1., 0., 1., 1., 0., 0., 1., 1., 0., 0., 0., 1., 0.,\n",
              "       0., 0., 0., 0., 0., 0., 0., 0., 0., 1., 1., 0., 1., 1., 1., 1., 1.,\n",
              "       0., 0., 0., 1., 1., 0., 1., 1., 1., 1., 1., 1., 1., 1., 1., 1., 1.,\n",
              "       0., 1., 1., 1., 1., 1., 1., 1., 0., 1., 1., 1., 1., 1., 1., 1., 1.,\n",
              "       1., 0., 1., 1., 1., 1., 0., 0., 1., 1., 0., 1., 1., 0., 1., 1., 1.,\n",
              "       1.], dtype=float32)>"
            ]
          },
          "metadata": {},
          "execution_count": 32
        }
      ]
    },
    {
      "cell_type": "code",
      "source": [
        "#Now we need to obtain our test labels and in order to get them we need to unravel our batch dataset\n",
        "test_labels = []#empty list to store the labels\n",
        "for images,labels in test_data_f.unbatch():\n",
        "  test_labels.append(tf.round(labels.numpy()))"
      ],
      "metadata": {
        "id": "IywOlWSx5yy2"
      },
      "execution_count": 33,
      "outputs": []
    },
    {
      "cell_type": "code",
      "source": [
        "true_labels = tf.squeeze(test_labels)"
      ],
      "metadata": {
        "id": "DOuCIQGHr-m1"
      },
      "execution_count": 34,
      "outputs": []
    },
    {
      "cell_type": "code",
      "source": [
        "#Now we can evaluate models prediction to find the accuracy score using sklearn library\n",
        "from sklearn.metrics import accuracy_score \n",
        "sklearn_accuracy = accuracy_score(y_true = true_labels, y_pred = pred_classes)\n",
        "  "
      ],
      "metadata": {
        "id": "Oh9PD_iCqNGp"
      },
      "execution_count": 35,
      "outputs": []
    },
    {
      "cell_type": "code",
      "source": [
        "sklearn_accuracy"
      ],
      "metadata": {
        "colab": {
          "base_uri": "https://localhost:8080/"
        },
        "id": "K_UbEhpVqXtb",
        "outputId": "f5d2791a-67d4-4c3a-a2a3-1f2f693d4368"
      },
      "execution_count": 36,
      "outputs": [
        {
          "output_type": "execute_result",
          "data": {
            "text/plain": [
              "0.8"
            ]
          },
          "metadata": {},
          "execution_count": 36
        }
      ]
    },
    {
      "cell_type": "markdown",
      "source": [
        "## Now we will create a general function to calculate various evaluation metrics of our best model till now, metrics namely , accuracy, precision, recall, F1_score"
      ],
      "metadata": {
        "id": "LM31eYxNPERr"
      }
    },
    {
      "cell_type": "code",
      "source": [
        "from sklearn.metrics import precision_recall_fscore_support\n",
        "def calculate_results(y_true, y_preds):\n",
        "    accuracy = accuracy_score(y_true = y_true,y_pred = y_preds)\n",
        "    precision, recall, f1_score,_ = precision_recall_fscore_support(y_true = y_true, y_pred = y_preds, average = \"weighted\")\n",
        "    return accuracy, precision, recall, f1_score"
      ],
      "metadata": {
        "id": "UkKUY9SCPA7Y"
      },
      "execution_count": 37,
      "outputs": []
    },
    {
      "cell_type": "code",
      "source": [
        "calculate_results(tf.squeeze(true_labels), pred_classes)"
      ],
      "metadata": {
        "colab": {
          "base_uri": "https://localhost:8080/"
        },
        "id": "HCz9KF8cP_J9",
        "outputId": "641fbb6f-d42d-49fb-85bc-03d25a57a0a5"
      },
      "execution_count": 38,
      "outputs": [
        {
          "output_type": "execute_result",
          "data": {
            "text/plain": [
              "(0.8, 0.8, 0.8, 0.8000000000000002)"
            ]
          },
          "metadata": {},
          "execution_count": 38
        }
      ]
    },
    {
      "cell_type": "markdown",
      "source": [
        "## "
      ],
      "metadata": {
        "id": "ephykpGRVJtB"
      }
    },
    {
      "cell_type": "code",
      "source": [
        "import itertools\n",
        "from sklearn.metrics import confusion_matrix\n",
        "def create_confusion_matrix(y_true, y_preds):\n",
        "  figsize = (10,10)\n",
        "  cm = confusion_matrix(y_true, y_preds)\n",
        "  cm_norm = cm.astype(\"float\")/cm.sum(axis = 1)[:np.newaxis]#normalizing our confusion matrix\n",
        "  n_classes = cm.shape[0]\n",
        "  #Lets pretiffy it\n",
        "  fig, ax = plt.subplots(figsize = figsize)\n",
        "  #Create a matrix plot\n",
        "  cax = ax.matshow(cm, cmap = plt.cm.Blues)\n",
        "  fig.colorbar(cax)\n",
        "  #Create classes\n",
        "  classes = False\n",
        "  if classes:\n",
        "    labels = classes\n",
        "  else:\n",
        "    labels = np.arange(cm.shape[0])\n",
        "  ax.set(title = \"Confusion_Matrix\",\n",
        "           xlabel = \"Predicted_Label\",\n",
        "           ylabel = \"True Label\",\n",
        "           xticks = np.arange(n_classes),\n",
        "           yticks = np.arange(n_classes),\n",
        "           xticklabels = labels,\n",
        "           yticklabels = labels)\n",
        "    \n"
      ],
      "metadata": {
        "id": "_8AQri3hQFVE"
      },
      "execution_count": 45,
      "outputs": []
    },
    {
      "cell_type": "code",
      "source": [
        "create_confusion_matrix(true_labels, pred_classes)"
      ],
      "metadata": {
        "colab": {
          "base_uri": "https://localhost:8080/",
          "height": 574
        },
        "id": "mLobiPWCW1xx",
        "outputId": "3f2d4594-980c-4738-84eb-410f59c47d1a"
      },
      "execution_count": 46,
      "outputs": [
        {
          "output_type": "display_data",
          "data": {
            "text/plain": [
              "<Figure size 720x720 with 2 Axes>"
            ],
            "image/png": "[encoded data removed]"
          },
          "metadata": {
            "needs_background": "light"
          }
        }
      ]
    },
    {
      "cell_type": "markdown",
      "source": [
        "##Visualising our models"
      ],
      "metadata": {
        "id": "DovHIzFHc9Vf"
      }
    },
    {
      "cell_type": "code",
      "source": [
        "from tensorflow.keras.utils import plot_model\n",
        "def plot_the_model(model):\n",
        "  plot_model(model)"
      ],
      "metadata": {
        "id": "nf11SOlIcMrS"
      },
      "execution_count": 58,
      "outputs": []
    },
    {
      "cell_type": "code",
      "source": [
        "#Our self made architecture\n",
        "plot_model(model_0)"
      ],
      "metadata": {
        "colab": {
          "base_uri": "https://localhost:8080/",
          "height": 856
        },
        "id": "WXyub19UetnP",
        "outputId": "a1b7e851-186f-4db9-e37a-53af70a48b01"
      },
      "execution_count": 59,
      "outputs": [
        {
          "output_type": "execute_result",
          "data": {
            "image/png": "[encoded data removed]",
            "text/plain": [
              "<IPython.core.display.Image object>"
            ]
          },
          "metadata": {},
          "execution_count": 59
        }
      ]
    },
    {
      "cell_type": "code",
      "source": [
        "#plotting the efficientnet model\n",
        "plot_model(model_1)"
      ],
      "metadata": {
        "colab": {
          "base_uri": "https://localhost:8080/",
          "height": 466
        },
        "id": "bCqQ71X1e7-3",
        "outputId": "0850064a-5839-4dc7-9b30-51460e92673c"
      },
      "execution_count": 60,
      "outputs": [
        {
          "output_type": "execute_result",
          "data": {
            "image/png": "[encoded data removed]",
            "text/plain": [
              "<IPython.core.display.Image object>"
            ]
          },
          "metadata": {},
          "execution_count": 60
        }
      ]
    },
    {
      "cell_type": "code",
      "source": [],
      "metadata": {
        "id": "xfOgc0AXiAR_"
      },
      "execution_count": null,
      "outputs": []
    }
  ]
}